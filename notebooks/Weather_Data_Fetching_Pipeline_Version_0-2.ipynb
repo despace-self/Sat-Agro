{
  "nbformat": 4,
  "nbformat_minor": 0,
  "metadata": {
    "colab": {
      "provenance": []
    },
    "kernelspec": {
      "name": "python3",
      "display_name": "Python 3"
    },
    "language_info": {
      "name": "python"
    }
  },
  "cells": [
    {
      "cell_type": "code",
      "execution_count": null,
      "metadata": {
        "id": "IlhORO2FTT4K"
      },
      "outputs": [],
      "source": [
        "def install_earth_packages():\n",
        "    \"\"\"\n",
        "    Install essential packages for accessing NASA Earthdata and handling NetCDF data.\n",
        "    \"\"\"\n",
        "    import subprocess\n",
        "    import sys\n",
        "\n",
        "    packages = [\"earthaccess\", \"netCDF4\", \"requests\"]\n",
        "    for pkg in packages:\n",
        "        subprocess.check_call([sys.executable, \"-m\", \"pip\", \"install\", pkg])\n"
      ]
    },
    {
      "cell_type": "code",
      "source": [
        "#User Coordinates\n",
        "\n",
        "#JSON\n",
        "{\n",
        "  \"latitude\": 7.8731,\n",
        "  \"longitude\": 80.7718\n",
        "}\n"
      ],
      "metadata": {
        "id": "gxwqGd0wUQLL"
      },
      "execution_count": null,
      "outputs": []
    },
    {
      "cell_type": "code",
      "source": [
        "#---Global Variables---\n",
        "\n",
        "#---Openweather API and URL----\n",
        "OPENWEATHER_API_KEY = \"your key\"\n",
        "openweather_url = \"https://api.openweathermap.org/data/2.5/weather\"\n",
        "\n",
        "#---NASA Earthdata username and password---\n",
        "nasaearthdata_username = \"username\"\n",
        "nasaearthdata_password = \"password\"\n",
        "\n",
        "#---Longitude and Latitude---\n",
        "lat, lon = 1.11111, 10.11111 #Change as per your coordinates\n",
        "\n",
        "#---Openmeteo url---\n",
        "openmeteo_url = \"https://api.open-meteo.com/v1/forecast\""
      ],
      "metadata": {
        "id": "FvjMrK5RZevJ"
      },
      "execution_count": null,
      "outputs": []
    },
    {
      "cell_type": "code",
      "source": [
        "#---Openweather realtime weather feedback\n",
        "def openweather(OPENWEATHER_API_KEY, openweather_url):\n",
        "\n",
        "    latitude = 6.823096\n",
        "    longitude = 79.943463\n",
        "\n",
        "\n",
        "    params = {\n",
        "        \"lat\": latitude,\n",
        "        \"lon\": longitude,\n",
        "        \"appid\": OPENWEATHER_API_KEY,\n",
        "        \"units\": \"metric\"\n",
        "    }\n",
        "\n",
        "    response = requests.get(openweather_url, params=params)\n",
        "    data = response.json()\n",
        "\n",
        "    if \"main\" in data and \"wind\" in data:\n",
        "        temp = data[\"main\"][\"temp\"]\n",
        "        humidity = data[\"main\"][\"humidity\"]\n",
        "        description = data[\"weather\"][0][\"description\"]\n",
        "        wind_speed = data[\"wind\"][\"speed\"]\n",
        "\n",
        "        print(f\" Temperature: {temp}°C\")\n",
        "        print(f\" Humidity: {humidity}%\")\n",
        "        print(f\" Wind Speed: {wind_speed} m/s\")\n",
        "        print(f\" Weather: {description}\")\n",
        "    else:\n",
        "        print(\"API Error or unexpected response:\")\n",
        "        print(data)\n",
        "\n",
        "    return temp, humidity, description, wind_speed"
      ],
      "metadata": {
        "id": "U6tSjrRvnqXT"
      },
      "execution_count": null,
      "outputs": []
    },
    {
      "cell_type": "code",
      "source": [
        "#netrc generation for NASA EARTHDATA LOGIN\n",
        "def NASA_netrc(nasaearthdata_username, nasaearthdata_password):\n",
        "    netrc_content = f\"\"\"machine urs.earthdata.nasa.gov\n",
        "    login {nasaearthdata_username}\n",
        "    password {nasaearthdata_password}\n",
        "    \"\"\"\n",
        "\n",
        "    # Write .netrc file to home directory\n",
        "    with open(\"/root/.netrc\", \"w\") as f:\n",
        "        f.write(netrc_content)\n",
        "\n",
        "    # Set permissions so it’s only readable by you (required)\n",
        "    !chmod 600 /root/.netrc\n",
        "\n",
        "    print(\"✅ .netrc file created and permissions set\")\n"
      ],
      "metadata": {
        "id": "6oxYXVVJSf2_"
      },
      "execution_count": null,
      "outputs": []
    },
    {
      "cell_type": "code",
      "source": [
        "def NASA_EARTHDATA_AUTHENTICATION():\n",
        "\n",
        "    auth = Auth()\n",
        "\n",
        "    # This should now work silently using .netrc without prompt\n",
        "    auth.login()\n",
        "    print(\"✅ Authenticated with NASA Earthdata!\")\n"
      ],
      "metadata": {
        "id": "KVsdAzgiSmHn"
      },
      "execution_count": null,
      "outputs": []
    },
    {
      "cell_type": "code",
      "source": [
        "def NASA_EARTHDATA_SOIL_MOISTURE(lat=6.823096, lon=79.943463):\n",
        "    \"\"\"\n",
        "    Fetches soil moisture from NASA SMAP SPL3SMP product for given lat/lon.\n",
        "    \"\"\"\n",
        "\n",
        "    collection_shortname = \"SPL3SMP\"  # SMAP L3 Soil Moisture product\n",
        "\n",
        "    # Define time range (last 5 days)\n",
        "    end_date = datetime.utcnow()\n",
        "    start_date = end_date - timedelta(days=5)\n",
        "\n",
        "    # Get the data collection metadata\n",
        "    collections = DataCollections().short_name(collection_shortname).get()\n",
        "\n",
        "    # Define bounding box BEFORE using lat/lon\n",
        "    bbox = [lon - 0.1, lat - 0.1, lon + 0.1, lat + 0.1]\n",
        "\n",
        "    # Search for granules\n",
        "    granules = (\n",
        "        DataGranules()\n",
        "        .short_name(collection_shortname)\n",
        "        .bounding_box(*bbox)\n",
        "        .temporal(start_date.isoformat() + \"Z\", end_date.isoformat() + \"Z\")\n",
        "        .get()\n",
        "    )\n",
        "\n",
        "    if not granules:\n",
        "        print(\"No granules found for this area and time\")\n",
        "        return\n",
        "\n",
        "    print(f\"Found {len(granules)} granules\")\n",
        "    file_url = granules[0].data_links()[0]\n",
        "    print(\"First granule URL:\", file_url)\n",
        "\n",
        "    # Download the HDF5 file\n",
        "    response = requests.get(file_url)\n",
        "    response.raise_for_status()\n",
        "\n",
        "    with h5py.File(BytesIO(response.content), \"r\") as f:\n",
        "        # Use AM retrieval data\n",
        "        group = f[\"Soil_Moisture_Retrieval_Data_AM\"]\n",
        "\n",
        "        latitudes = group[\"latitude\"][:]\n",
        "        longitudes = group[\"longitude\"][:]\n",
        "        soil_moisture = group[\"soil_moisture\"][:]\n",
        "\n",
        "        # Mask invalid values\n",
        "        valid_mask = soil_moisture != -9999\n",
        "\n",
        "        # Compute distances only for valid points\n",
        "        dist = np.full(soil_moisture.shape, np.inf)\n",
        "        dist[valid_mask] = np.sqrt((latitudes[valid_mask] - lat)**2 + (longitudes[valid_mask] - lon)**2)\n",
        "\n",
        "        # Find closest valid point\n",
        "        i, j = np.unravel_index(np.argmin(dist), dist.shape)\n",
        "\n",
        "        value = soil_moisture[i, j]\n",
        "        print(f\"🌱 Soil moisture (AM) at {lat},{lon}: {value:.3f} m³/m³\")\n",
        "\n",
        "    return value"
      ],
      "metadata": {
        "id": "J-KKPBwvvNEu"
      },
      "execution_count": null,
      "outputs": []
    },
    {
      "cell_type": "code",
      "source": [
        "#---Google Earth Engine---\n",
        "def earth_engine_authentication():\n",
        "    ee.Authenticate()  # Follow the link, authenticate with your Google account\n",
        "    ee.Initialize(project='your ID')\n"
      ],
      "metadata": {
        "id": "_U_Ng7SAWQpz"
      },
      "execution_count": null,
      "outputs": []
    },
    {
      "cell_type": "code",
      "source": [
        "'''def MODIS():\n",
        "\n",
        "    # Define your location point\n",
        "    point = ee.Geometry.Point([lon, lat])\n",
        "\n",
        "    # MODIS Vegetation Indices (MOD13Q1) - 16-day, 250m resolution\n",
        "    modis_veg = ee.ImageCollection('MODIS/006/MOD13Q1') \\\n",
        "                  .filterBounds(point) \\\n",
        "                  .filterDate('2025-01-01', '2025-06-21') \\\n",
        "                  .select(['NDVI', 'EVI'])\n",
        "\n",
        "    # MODIS Land Surface Temperature (MOD11A2) - 8-day, 1km resolution\n",
        "    modis_lst = ee.ImageCollection('MODIS/006/MOD11A2') \\\n",
        "                  .filterBounds(point) \\\n",
        "                  .filterDate('2025-01-01', '2025-06-21') \\\n",
        "                  .select(['LST_Day_1km'])\n",
        "\n",
        "    # Get median composite for NDVI and EVI\n",
        "    veg_img = modis_veg.median()\n",
        "\n",
        "    # Get median composite for LST\n",
        "    lst_img = modis_lst.median()\n",
        "\n",
        "    # Sample the NDVI, EVI, LST values at your point\n",
        "    veg_values = veg_img.sample(point, scale=250).first().getInfo()\n",
        "    lst_values = lst_img.sample(point, scale=1000).first().getInfo()\n",
        "\n",
        "    print(\"MODIS Vegetation Indices at your location:\")\n",
        "    print(f\"NDVI: {veg_values['properties']['NDVI']} (scale factor: 0.0001, multiply to get real value)\")\n",
        "    print(f\"EVI: {veg_values['properties']['EVI']} (scale factor: 0.0001)\")\n",
        "\n",
        "    print(\"\\nMODIS Land Surface Temperature at your location:\")\n",
        "    print(f\"LST_Day_1km: {lst_values['properties']['LST_Day_1km']} (scale factor: 0.02 Kelvin)\")'''\n"
      ],
      "metadata": {
        "id": "PyV8iSK_WANM"
      },
      "execution_count": null,
      "outputs": []
    },
    {
      "cell_type": "code",
      "source": [
        "\n",
        "def openmeteo(openmeteo_url):\n",
        "    # Coordinates and parameters\n",
        "\n",
        "    params = {\n",
        "        \"latitude\": lat,\n",
        "        \"longitude\": lon,\n",
        "        \"hourly\": \"shortwave_radiation\",\n",
        "        \"timezone\": \"Asia/Colombo\"  # Make sure it's local time\n",
        "    }\n",
        "\n",
        "    # Fetch data\n",
        "    resp = requests.get(openmeteo_url, params=params).json()\n",
        "\n",
        "    # Get today's date\n",
        "    today_str = datetime.now().strftime(\"%Y-%m-%d\")\n",
        "\n",
        "    # Filter and print today's data\n",
        "    times = resp[\"hourly\"][\"time\"]\n",
        "    radiation = resp[\"hourly\"][\"shortwave_radiation\"]\n",
        "\n",
        "    print(f\"Shortwave Radiation for Today ({today_str}):\")\n",
        "    for t, rad in zip(times, radiation):\n",
        "        if t.startswith(today_str):\n",
        "            print(f\"{t[-5:]} → {rad:.1f} W/m²\")\n"
      ],
      "metadata": {
        "id": "-E-J-sxQPcoh"
      },
      "execution_count": null,
      "outputs": []
    },
    {
      "cell_type": "code",
      "source": [
        "#import packages\n",
        "from earthaccess import DataCollections, DataGranules\n",
        "import ee\n",
        "from datetime import datetime, timedelta\n",
        "import h5py\n",
        "import numpy as np\n",
        "import requests\n",
        "from io import BytesIO\n",
        "import ee\n",
        "import requests\n"
      ],
      "metadata": {
        "id": "yI6FdmtzQO4i"
      },
      "execution_count": null,
      "outputs": []
    },
    {
      "cell_type": "code",
      "source": [
        "#---Pipeline---\n",
        "install_earth_packages()\n",
        "temp, humidity, description, wind_speed = openweather(OPENWEATHER_API_KEY, openweather_url)\n",
        "NASA_EARTHDATA_AUTHENTICATION()\n",
        "NASA_EARTHDATA_SOIL_MOISTURE(lat=1.1111, lon=10.11111) #Change as per your coordinates\n",
        "#earth_engine_authentication()\n",
        "#MODIS()\n",
        "openmeteo(openmeteo_url)\n"
      ],
      "metadata": {
        "id": "Ndoz_fPAdEgI"
      },
      "execution_count": null,
      "outputs": []
    }
  ]
}